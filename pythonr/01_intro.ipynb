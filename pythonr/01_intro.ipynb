{
 "cells": [
  {
   "cell_type": "markdown",
   "id": "2cbabc62",
   "metadata": {},
   "source": [
    "Syntax \n",
    "What is a Syntax? \n",
    "Syntax are sets of rules \n",
    "Comments (#) –  Comments are like sticky notes in your code. They start with # and are ignored by Python, so they’re just for you or others to understand what the code does.<br>\n",
    "Example: # This calculates your age<br>\n",
    "Indentation (Spaces/Tabs) – Python uses them to group code (like paragraphs in a book).<br>\n",
    "Code Blocks – Sections of code that belong together (e.g., inside loops or functions).<br>\n",
    "Keywords – Special words Python reserves (e.g., if, for, while). Don’t use these as variable name"
   ]
  },
  {
   "cell_type": "code",
   "execution_count": null,
   "id": "fa8ff31c",
   "metadata": {},
   "outputs": [
    {
     "ename": "",
     "evalue": "",
     "output_type": "error",
     "traceback": [
      "\u001b[1;31mRunning cells with 'pythonr (Python 3.13.2)' requires the ipykernel package.\n",
      "\u001b[1;31mInstall 'ipykernel' into the Python environment. \n",
      "\u001b[1;31mCommand: '\"c:/Users/Admin/OneDrive/Desktop/Python Tutorial/pythonr/Scripts/python.exe\" -m pip install ipykernel -U --force-reinstall'"
     ]
    }
   ],
   "source": [
    "#This is a comment it does not execute\n",
    "\n",
    "name = \"Alice\"\n",
    "print(f'hello {name}!')"
   ]
  },
  {
   "cell_type": "code",
   "execution_count": null,
   "id": "3d9c6f71",
   "metadata": {},
   "outputs": [],
   "source": [
    "crypto = input(\"Enter your favorite Crypto Asset\")\n",
    "print(\"My favorite crypto asset is\" + crypto)\n"
   ]
  }
 ],
 "metadata": {
  "kernelspec": {
   "display_name": "pythonr",
   "language": "python",
   "name": "python3"
  },
  "language_info": {
   "name": "python",
   "version": "3.13.2"
  }
 },
 "nbformat": 4,
 "nbformat_minor": 5
}
