{
 "cells": [
  {
   "cell_type": "markdown",
   "id": "2cbabc62",
   "metadata": {},
   "source": [
    "Syntax \n",
    "What is a Syntax? \n",
    "Syntax are sets of rules \n",
    "Comments (#) –  Comments are like sticky notes in your code. They start with # and are ignored by Python, so they’re just for you or others to understand what the code does.<br>\n",
    "Example: # This calculates your age<br>\n",
    "Indentation (Spaces/Tabs) – Python uses them to group code (like paragraphs in a book).<br>\n",
    "Code Blocks – Sections of code that belong together (e.g., inside loops or functions).<br>\n",
    "Keywords – Special words Python reserves (e.g., if, for, while). Don’t use these as variable name"
   ]
  },
  {
   "cell_type": "code",
   "execution_count": null,
   "id": "fa8ff31c",
   "metadata": {},
   "outputs": [],
   "source": [
    "#This is a comment it does not execute\n",
    "\n",
    "name = \"Alice\"\n",
    "print(f'hello {name}!')"
   ]
  },
  {
   "cell_type": "code",
   "execution_count": null,
   "id": "3d9c6f71",
   "metadata": {},
   "outputs": [],
   "source": [
    "crypto = input(\"Enter your favorite Crypto Asset\")\n",
    "print(\"My favorite crypto asset is\" + crypto)\n"
   ]
  }
 ],
 "metadata": {
  "language_info": {
   "name": "python"
  }
 },
 "nbformat": 4,
 "nbformat_minor": 5
}
