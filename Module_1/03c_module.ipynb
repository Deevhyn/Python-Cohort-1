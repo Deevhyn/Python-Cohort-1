{
 "cells": [
  {
   "cell_type": "markdown",
   "id": "09c87cc7",
   "metadata": {},
   "source": [
    "### Modules \n",
    "They contain reusable codes, functions, and variables. \n",
    "\n",
    "It can also be called a python file containing a python code (functions, variables, and classes) that can be imported and reused in other programs. It organizes related codes into a single file, making it easy to manage and share. "
   ]
  },
  {
   "cell_type": "markdown",
   "id": "bfe4bd85",
   "metadata": {},
   "source": [
    "## Types of Modules \n",
    "\n",
    "1. Standard or Built-in modules "
   ]
  },
  {
   "cell_type": "code",
   "execution_count": 33,
   "id": "12b5c39b",
   "metadata": {},
   "outputs": [],
   "source": [
    "# Stadard Module \n",
    "\n",
    "import math \n",
    "import time \n",
    "import random \n",
    "import os\n",
    "import sys \n"
   ]
  },
  {
   "cell_type": "code",
   "execution_count": 34,
   "id": "ce883242",
   "metadata": {},
   "outputs": [
    {
     "name": "stdout",
     "output_type": "stream",
     "text": [
      "The Square root of 16 is  4.0\n"
     ]
    }
   ],
   "source": [
    "sqrt_value = math.sqrt(16)\n",
    "\n",
    "print('The Square root of 16 is ', sqrt_value)"
   ]
  },
  {
   "cell_type": "code",
   "execution_count": null,
   "id": "71bd5e86",
   "metadata": {},
   "outputs": [],
   "source": [
    "# This is used to schedule the amount of time a code should run \n",
    "\n",
    "time.sleep(5)"
   ]
  },
  {
   "cell_type": "code",
   "execution_count": 36,
   "id": "4957d4b1",
   "metadata": {},
   "outputs": [
    {
     "name": "stdout",
     "output_type": "stream",
     "text": [
      "3\n"
     ]
    }
   ],
   "source": [
    "random_num = random.randint(1, 10)\n",
    "\n",
    "print(random_num)"
   ]
  },
  {
   "cell_type": "code",
   "execution_count": 37,
   "id": "285faa1e",
   "metadata": {},
   "outputs": [
    {
     "name": "stdout",
     "output_type": "stream",
     "text": [
      "3.13.2 (tags/v3.13.2:4f8bb39, Feb  4 2025, 15:23:48) [MSC v.1942 64 bit (AMD64)]\n"
     ]
    }
   ],
   "source": [
    "python_ver = sys.version\n",
    "print(python_ver)"
   ]
  },
  {
   "cell_type": "markdown",
   "id": "bb63ac28",
   "metadata": {},
   "source": [
    "### 2. Third-party Modules \n",
    "\n",
    "Examples are: \n",
    "- Pandas\n",
    "- Web3 \n",
    "- Tweepy, etc. "
   ]
  },
  {
   "cell_type": "code",
   "execution_count": null,
   "id": "a8ebb243",
   "metadata": {},
   "outputs": [],
   "source": [
    "import pandas as pd \n",
    "import numpy as np\n",
    "import web3 "
   ]
  },
  {
   "cell_type": "markdown",
   "id": "6dd55dfb",
   "metadata": {},
   "source": [
    "### 3. Custom Modules \n",
    "\n",
    "How to create a custom module: \n",
    "- save with .py extension ... e.g learn.py"
   ]
  }
 ],
 "metadata": {
  "kernelspec": {
   "display_name": "pythonr",
   "language": "python",
   "name": "python3"
  },
  "language_info": {
   "codemirror_mode": {
    "name": "ipython",
    "version": 3
   },
   "file_extension": ".py",
   "mimetype": "text/x-python",
   "name": "python",
   "nbconvert_exporter": "python",
   "pygments_lexer": "ipython3",
   "version": "3.13.2"
  }
 },
 "nbformat": 4,
 "nbformat_minor": 5
}
