{
 "cells": [
  {
   "cell_type": "markdown",
   "id": "97371465",
   "metadata": {},
   "source": [
    "# Common Methods and Functions in Strings "
   ]
  },
  {
   "cell_type": "code",
   "execution_count": null,
   "id": "fa84ddcf",
   "metadata": {},
   "outputs": [
    {
     "data": {
      "text/plain": [
       "10"
      ]
     },
     "execution_count": 1,
     "metadata": {},
     "output_type": "execute_result"
    }
   ],
   "source": [
    "# len() ----> length of string \n",
    "name = \"Blockchain\"\n",
    "len(name)"
   ]
  },
  {
   "cell_type": "markdown",
   "id": "f11adaf9",
   "metadata": {},
   "source": [
    "# 2. LIST \n",
    "\n",
    "A list is an ordered, mutable, indexable collection of elements "
   ]
  },
  {
   "cell_type": "code",
   "execution_count": 1,
   "id": "bb4555eb",
   "metadata": {},
   "outputs": [],
   "source": [
    "block = ('BTC', 2025, 'halving', 'BTC')"
   ]
  },
  {
   "cell_type": "markdown",
   "id": "c0767d65",
   "metadata": {},
   "source": [
    "# 3. Tuple \n",
    "\n",
    "A tuple is an ordered immutable collection. It is created with parenthesis bracket. It is said to be faster than lists, but rarely used."
   ]
  },
  {
   "cell_type": "markdown",
   "id": "f64399cb",
   "metadata": {},
   "source": [
    "# Common Functions in Tuple"
   ]
  },
  {
   "cell_type": "code",
   "execution_count": 2,
   "id": "c8f768ce",
   "metadata": {},
   "outputs": [
    {
     "data": {
      "text/plain": [
       "4"
      ]
     },
     "execution_count": 2,
     "metadata": {},
     "output_type": "execute_result"
    }
   ],
   "source": [
    "# len() ---> Length of a tuple\n",
    "\n",
    "len(block)"
   ]
  },
  {
   "cell_type": "code",
   "execution_count": 3,
   "id": "4664a223",
   "metadata": {},
   "outputs": [
    {
     "data": {
      "text/plain": [
       "2"
      ]
     },
     "execution_count": 3,
     "metadata": {},
     "output_type": "execute_result"
    }
   ],
   "source": [
    "# .count(x) --> This counts occurences \n",
    "\n",
    "block.count('BTC')"
   ]
  },
  {
   "cell_type": "code",
   "execution_count": 6,
   "id": "4af602cc",
   "metadata": {},
   "outputs": [
    {
     "data": {
      "text/plain": [
       "0"
      ]
     },
     "execution_count": 6,
     "metadata": {},
     "output_type": "execute_result"
    }
   ],
   "source": [
    "# .index(x) --> It gets index (position) of element \n",
    "\n",
    "block.index(2025)\n",
    "block.index('BTC')"
   ]
  },
  {
   "cell_type": "code",
   "execution_count": 7,
   "id": "9949c0c9",
   "metadata": {},
   "outputs": [
    {
     "data": {
      "text/plain": [
       "True"
      ]
     },
     "execution_count": 7,
     "metadata": {},
     "output_type": "execute_result"
    }
   ],
   "source": [
    "# in --> Membership check \n",
    "\n",
    "'halving' in block"
   ]
  },
  {
   "cell_type": "markdown",
   "id": "3d3ae559",
   "metadata": {},
   "source": [
    "# 4. Set\n",
    "\n",
    "A set is an unordered, unindexed, mutable collection of unique elements. "
   ]
  },
  {
   "cell_type": "code",
   "execution_count": 8,
   "id": "dc6058e1",
   "metadata": {},
   "outputs": [],
   "source": [
    "# Create a Set \n",
    "\n",
    "wallet = {'0xern2', '0xDEF', '0xcGt'}"
   ]
  },
  {
   "cell_type": "markdown",
   "id": "dd6e8eb8",
   "metadata": {},
   "source": [
    "## Common Methods/Functions in Sets"
   ]
  },
  {
   "cell_type": "code",
   "execution_count": 10,
   "id": "c1205343",
   "metadata": {},
   "outputs": [
    {
     "data": {
      "text/plain": [
       "{'0XEth', '0xDEF', '0xcGt', '0xern2'}"
      ]
     },
     "execution_count": 10,
     "metadata": {},
     "output_type": "execute_result"
    }
   ],
   "source": [
    "# .add(x) --> Used to add elements\n",
    "\n",
    "wallet.add('0XEth')\n",
    "wallet"
   ]
  },
  {
   "cell_type": "code",
   "execution_count": 11,
   "id": "01615157",
   "metadata": {},
   "outputs": [
    {
     "data": {
      "text/plain": [
       "{'0XEth', '0xcGt', '0xern2'}"
      ]
     },
     "execution_count": 11,
     "metadata": {},
     "output_type": "execute_result"
    }
   ],
   "source": [
    "# .remove(x) ---> removes elements (if an error is present)\n",
    "\n",
    "wallet.remove('0xDEF')\n",
    "wallet"
   ]
  },
  {
   "cell_type": "code",
   "execution_count": 12,
   "id": "2f261548",
   "metadata": {},
   "outputs": [
    {
     "data": {
      "text/plain": [
       "{'0XEth', '0xern2'}"
      ]
     },
     "execution_count": 12,
     "metadata": {},
     "output_type": "execute_result"
    }
   ],
   "source": [
    "# .discard(x) --> removes element (no error if missing)\n",
    "\n",
    "wallet.discard('0xcGt')\n",
    "wallet"
   ]
  },
  {
   "cell_type": "code",
   "execution_count": 13,
   "id": "8d35c2dd",
   "metadata": {},
   "outputs": [
    {
     "data": {
      "text/plain": [
       "{'0XdFR', '0Xgta', '0xDEF', '0xcGt', '0xern2', '0xweR'}"
      ]
     },
     "execution_count": 13,
     "metadata": {},
     "output_type": "execute_result"
    }
   ],
   "source": [
    "# .union(other_set) --> combines sets\n",
    "\n",
    "wallet_a = {'0xern2', '0xDEF', '0xcGt'}\n",
    "wallet_b = {'0xweR', '0XdFR', '0Xgta'}\n",
    "\n",
    "wallet_a.union(wallet_b)"
   ]
  },
  {
   "cell_type": "code",
   "execution_count": 14,
   "id": "a34f9c6a",
   "metadata": {},
   "outputs": [
    {
     "data": {
      "text/plain": [
       "{'0xcGt'}"
      ]
     },
     "execution_count": 14,
     "metadata": {},
     "output_type": "execute_result"
    }
   ],
   "source": [
    "# .intersection(other) --> Selects the common elements \n",
    "\n",
    "wallet_x = {'0xern2', '0xDEF', '0xcGt'}\n",
    "wallet_y = {'0xweR', '0xcGt', '0Xgta'}\n",
    "\n",
    "wallet_x.intersection(wallet_y)"
   ]
  },
  {
   "cell_type": "code",
   "execution_count": 15,
   "id": "1dc9e6dd",
   "metadata": {},
   "outputs": [
    {
     "data": {
      "text/plain": [
       "{'0Xgta', '0xweR'}"
      ]
     },
     "execution_count": 15,
     "metadata": {},
     "output_type": "execute_result"
    }
   ],
   "source": [
    "# .difference(other) --> It is unique to sets \n",
    "\n",
    "wallet_y.difference(wallet_x)"
   ]
  },
  {
   "cell_type": "code",
   "execution_count": 16,
   "id": "fc028f92",
   "metadata": {},
   "outputs": [
    {
     "data": {
      "text/plain": [
       "True"
      ]
     },
     "execution_count": 16,
     "metadata": {},
     "output_type": "execute_result"
    }
   ],
   "source": [
    "# in ---> It does membership check\n",
    "\n",
    "'0xcGt' in wallet_x"
   ]
  },
  {
   "cell_type": "markdown",
   "id": "f0750006",
   "metadata": {},
   "source": [
    "# 5. Nested Data Structures\n",
    "\n",
    "These are the combination of basic data structures. They are very common in real-world data (like ApI responses, blockchain data, and JSON)"
   ]
  },
  {
   "cell_type": "markdown",
   "id": "1b945d2b",
   "metadata": {},
   "source": [
    "## A. List of Lists (2D List)"
   ]
  },
  {
   "cell_type": "code",
   "execution_count": null,
   "id": "c3a9bfff",
   "metadata": {},
   "outputs": [
    {
     "name": "stdout",
     "output_type": "stream",
     "text": [
      "5\n",
      "9\n",
      "3\n"
     ]
    }
   ],
   "source": [
    "# List of lists \n",
    "\n",
    "matrix = [\n",
    "    [1,2,3], # Column 0\n",
    "    [4,5,6], # Columnn 1\n",
    "    [7,8,9]  # Column 2\n",
    "]\n",
    "\n",
    "print(matrix[1][1])  #this calls 5 since its in column 1 and index 1\n",
    "print(matrix[2][2])  #this calls 9 since its in column 2 and index 2\n",
    "print(matrix[0][2])  #this calls 3 since its in column 0 and index 2 "
   ]
  },
  {
   "cell_type": "markdown",
   "id": "88eab0c0",
   "metadata": {},
   "source": [
    "## B. Lists of Dictionaries "
   ]
  },
  {
   "cell_type": "code",
   "execution_count": null,
   "id": "f2f64788",
   "metadata": {},
   "outputs": [
    {
     "name": "stdout",
     "output_type": "stream",
     "text": [
      "{'name': 'Maryam', 'wallet': '0xADF'}\n",
      "0xADF\n",
      "Maryam\n",
      "Divine\n"
     ]
    }
   ],
   "source": [
    "users = [\n",
    "    {'name':'Maryam', 'wallet':'0xADF'},\n",
    "    {'name': 'Bob', 'wallet':'0xJGH'},\n",
    "    {'name': 'Rotimi', 'wallet':'0xKKH'},\n",
    "    {'name': 'Mario', 'wallet':'0xEWH'},\n",
    "    {'name': 'Divine', 'wallet':'0xHFH'},\n",
    "    {'name': 'Wale', 'wallet':'0xJGH'}\n",
    "]\n",
    "\n",
    "print(users[0])\n",
    "print(users[0]['wallet'])\n",
    "print(users[0]['name'])\n",
    "print(users[4]['name']) "
   ]
  },
  {
   "cell_type": "markdown",
   "id": "81432e69",
   "metadata": {},
   "source": [
    "## C. Dictionary of Lists"
   ]
  },
  {
   "cell_type": "code",
   "execution_count": null,
   "id": "8fd9740a",
   "metadata": {},
   "outputs": [
    {
     "name": "stdout",
     "output_type": "stream",
     "text": [
      "BTC\n",
      "TIA\n"
     ]
    }
   ],
   "source": [
    "wallets = {\n",
    "    '0xADC': ['ETH', 'BTC', 'SOL'],\n",
    "    '0xGRT': ['BTC', 'ADA', 'UNI'],\n",
    "    '0xAED': ['ADA', 'BTC', 'SOL'],\n",
    "    '0xJGG': ['BTC', 'TIA', 'UNI'],\n",
    "    '0xKIT': ['ETH', 'BTC', 'CELE'],\n",
    "    '0xETU': ['ATOM', 'ADA', 'UNI']\n",
    "}\n",
    "\n",
    "print(wallets['0xADC'][1])\n",
    "print(wallets['0xJGG'][1])"
   ]
  },
  {
   "cell_type": "markdown",
   "id": "02d94ac2",
   "metadata": {},
   "source": [
    "## D. Nested Dictionary (Dict of Dict)"
   ]
  },
  {
   "cell_type": "code",
   "execution_count": 28,
   "id": "1d5b1355",
   "metadata": {},
   "outputs": [
    {
     "name": "stdout",
     "output_type": "stream",
     "text": [
      "5.5\n",
      "3.2\n"
     ]
    }
   ],
   "source": [
    "users_profile = {\n",
    "    '0xABC': {\"name\":\"Alice\", 'balance':5.5},\n",
    "    '0xDEF': {'name':'Bob', 'balance':3.2}\n",
    "}\n",
    "\n",
    "print(users_profile['0xABC']['balance'])\n",
    "print(users_profile['0xDEF']['balance'])"
   ]
  },
  {
   "cell_type": "markdown",
   "id": "03677a81",
   "metadata": {},
   "source": [
    "## E. Mix and Match examples "
   ]
  },
  {
   "cell_type": "code",
   "execution_count": 30,
   "id": "6ce758e2",
   "metadata": {},
   "outputs": [
    {
     "name": "stdout",
     "output_type": "stream",
     "text": [
      "0xABC\n"
     ]
    }
   ],
   "source": [
    "transactions = [\n",
    "    {\"tx_id\": \"0x1\", \"from\": \"0xABC\", \"to\": \"0xDEF\", \"amount\": 100},\n",
    "    {\"tx_id\": \"0x2\", \"from\": \"0xDEF\", \"to\": \"0x123\", \"amount\": 200}\n",
    "]\n",
    "\n",
    "print(transactions[0]['from'])"
   ]
  }
 ],
 "metadata": {
  "kernelspec": {
   "display_name": "pythonr",
   "language": "python",
   "name": "python3"
  },
  "language_info": {
   "codemirror_mode": {
    "name": "ipython",
    "version": 3
   },
   "file_extension": ".py",
   "mimetype": "text/x-python",
   "name": "python",
   "nbconvert_exporter": "python",
   "pygments_lexer": "ipython3",
   "version": "3.13.2"
  }
 },
 "nbformat": 4,
 "nbformat_minor": 5
}
