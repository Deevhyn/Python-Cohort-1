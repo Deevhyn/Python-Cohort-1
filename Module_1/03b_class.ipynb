{
 "cells": [
  {
   "cell_type": "markdown",
   "id": "9ee930b2",
   "metadata": {},
   "source": [
    "## What are classes? \n",
    "\n",
    "Classes are blueprints for creating objects. An object is an instance of a class that can hold data (attributes) and perform actions (methods). Classes are ideal for modelling real-world entities, like a cryptocurrency or a portfolio.\n"
   ]
  },
  {
   "cell_type": "markdown",
   "id": "da96c697",
   "metadata": {},
   "source": [
    "### Defining a Class\n",
    "-- Use the class keyword to define a class.\n",
    "\n",
    "-- Classes typically include:\n",
    "- Attributes: Variables that store data.\n",
    "- Methods: Functions that define the behavior of the class.\n",
    "- Constructo"
   ]
  },
  {
   "cell_type": "markdown",
   "id": "c3be24b9",
   "metadata": {},
   "source": [
    "### What is self in a class? \n",
    "\n",
    "Definition: Self is the first parameter in instance methods of  a class. it represents the instance(object) on which the method is called. While self is not a reserved keyword in Python, it's teh standard convention for naming this parameter. \n",
    "\n",
    "Purposes of Self: (Attributes, methods and constructor)\n",
    "- Access and modify the instance's attributes \n",
    "- call other methods of the same instance\n",
    "- Differentiate between instance-specific data and class-level data\n",
    "\n",
    "When is self used? \n",
    "self is used in instance methods (not static or class methods) and in the init constructor to initialize instance attributes. \n",
    "\n",
    "Self gives access to our attributes and helps us calls attributes easily"
   ]
  },
  {
   "cell_type": "code",
   "execution_count": null,
   "id": "b0e33a46",
   "metadata": {},
   "outputs": [],
   "source": [
    "# #Create a crypto wallet\n",
    "\n",
    "# class CryptoWallet:\n",
    "#     #Constructor --> Initializes objects (takes in owner and balance as an attribute)\n",
    "#     def __init__(self,owner):\n",
    "#         self.owner = owner\n",
    "#         self.balance = {}\n",
    "\n",
    "#     def deposit(self, token, amount):\n",
    "#         self.balance[token] = self.balance.get(token,0) + amount\n",
    "\n",
    "#     def withdraw(self, token, amount): \n",
    "#         if self.balance.get(token,0) >= amount:\n",
    "#             self.balance[token] -= amount \n",
    "#             return True \n",
    "#         else:\n",
    "#             return False\n",
    "\n",
    "#     def view_balance(self):\n",
    "#         return self.balance\n",
    "\n",
    "    "
   ]
  },
  {
   "cell_type": "code",
   "execution_count": 7,
   "id": "2933550b",
   "metadata": {},
   "outputs": [],
   "source": [
    "class CryptoWallet:\n",
    "    # Constructor\n",
    "    def __init__(self, owner):\n",
    "        self.owner = owner\n",
    "        self.balance = {}\n",
    "\n",
    "    def deposit(self,token, amount):\n",
    "        self.balance[token] = self.balance.get(token,0) + amount\n",
    "\n",
    "    def withdraw(self, token, amount):\n",
    "        if self.balance.get(token,0) >= amount:\n",
    "            self.balance[token] -= amount\n",
    "            return True\n",
    "        else:\n",
    "            return False\n",
    "\n",
    "    def view_balance(self):\n",
    "        return self.balance\n"
   ]
  },
  {
   "cell_type": "code",
   "execution_count": 11,
   "id": "3313efb8",
   "metadata": {},
   "outputs": [
    {
     "name": "stdout",
     "output_type": "stream",
     "text": [
      "{'ETH': 0.7, 'BTC': 0.1}\n"
     ]
    }
   ],
   "source": [
    "wallet = CryptoWallet(\"Joseph\")\n",
    "wallet.deposit(\"ETH\", 0.7)\n",
    "wallet.deposit(\"BTC\", 0.1)\n",
    "\n",
    "print(wallet.view_balance())"
   ]
  },
  {
   "cell_type": "code",
   "execution_count": 12,
   "id": "5c26ca61",
   "metadata": {},
   "outputs": [
    {
     "name": "stdout",
     "output_type": "stream",
     "text": [
      "withdrawal success: True\n",
      "{'ETH': 0.6, 'BTC': 0.1}\n"
     ]
    }
   ],
   "source": [
    "success = wallet.withdraw(\"ETH\", 0.1)\n",
    "print(\"withdrawal success:\", success)\n",
    "print(wallet.view_balance())"
   ]
  },
  {
   "cell_type": "code",
   "execution_count": 24,
   "id": "0aba7ff9",
   "metadata": {},
   "outputs": [],
   "source": [
    "class Cryptocurrency:\n",
    "    \"\"\"Class to represent a cryptocurrency\"\"\"\n",
    "    def __init__(self, name, symbol, price, quantity):\n",
    "        self.name = name        # e.g Bitcoin,etc.\n",
    "        self.price = price          # current price in usd \n",
    "        self.symbol = symbol    # e.g BTC\n",
    "        self.quantity = quantity    # amount held \n",
    "\n",
    "    def get_value(self):\n",
    "        \"\"\"Calculate the total value of the holding.\"\"\"\n",
    "        return self.price * self.quantity \n",
    "    \n",
    "    def updated_price(self, new_price): \n",
    "        \"\"\"Update the cryptocurrency price\"\"\"\n",
    "        self.price = new_price\n",
    "\n",
    "\n",
    "class portfolio: \n",
    "    \"\"\"Class to manage a portfolio of cryptocurrencies\"\"\"\n",
    "    def __init__(self):\n",
    "        self.holdings = {} #a dictionary to store cryptocurrencies\n",
    "\n",
    "    def add_crypto(self, crypto):\n",
    "        \"\"\"Add a Cryptocurrency to the portfolio\"\"\"\n",
    "        self.holdings[crypto.symbol] = crypto\n",
    "\n",
    "    def get_total_value(self):\n",
    "        \"\"\"Calculate the total value of the portfolio.\"\"\"\n",
    "        total = sum(crypto.get_value() for crypto in self.holdings.values())\n",
    "        return total\n",
    "\n",
    "    def get_holdings(self, symbol):\n",
    "        \"\"\"Retrieves a cryptocurrency by it's symbol\"\"\"\n",
    "        return self.holdings.get(symbol, None)\n",
    "    \n",
    "    def withdraw_crypto(self, symbol, quantity):\n",
    "        \"\"\"Withdraw a specified quantity of a cryptocurrency\"\"\"\n",
    "\n",
    "        crypto = self.get_holdings(symbol)\n",
    "\n",
    "        # Check if the cryptocurrency exists\n",
    "        if not crypto: \n",
    "            print(f\"Error: {symbol} not found in the portfolio\")\n",
    "            return False\n",
    "        \n",
    "        # validate quantity \n",
    "        if quantity <= 0:\n",
    "            print(f\"Error: Withdrawal quantity is empty.\")\n",
    "            return False\n",
    "        if quantity > crypto.quantity:\n",
    "            print(f\"Error: Insufficient {symbol} balance. Available: {crypto.quantity}, Request: {quantity}\")\n",
    "            return False\n",
    "        \n",
    "        # Update Quantity \n",
    "        crypto.quantity -= quantity\n",
    "        print(f\"Withdrew {quantity} {symbol}. Remaining: {crypto.quantity}\")\n",
    "\n",
    "        #Remove cryptocurrency if quantity is 0 \n",
    "        if crypto.quantity == 0:\n",
    "            del self.holdings[symbol]\n",
    "            print(f\"{symbol} holding removed from portfolio\")\n",
    "\n",
    "        return True \n",
    "\n"
   ]
  },
  {
   "cell_type": "code",
   "execution_count": 25,
   "id": "bede4782",
   "metadata": {},
   "outputs": [
    {
     "name": "stdout",
     "output_type": "stream",
     "text": [
      "Portfolio Total Value: $117200.00\n"
     ]
    }
   ],
   "source": [
    "# Create cryptocurrency objects \n",
    "bitcoin = Cryptocurrency(\"Bitcoin\",\"BTC\", 117000, 1)\n",
    "ethereum = Cryptocurrency(\"Ethereum\",\"ETH\", 500, 0.4)\n",
    "\n",
    "# Create Portfolio objects\n",
    "my_portfolio = portfolio()\n",
    "my_portfolio.add_crypto(bitcoin)\n",
    "my_portfolio.add_crypto(ethereum)\n",
    "\n",
    "# Calculate total portfolio values \n",
    "total_value = my_portfolio.get_total_value()\n",
    "print(f\"Portfolio Total Value: ${total_value:.2f}\")"
   ]
  },
  {
   "cell_type": "code",
   "execution_count": 26,
   "id": "7610fe95",
   "metadata": {},
   "outputs": [
    {
     "name": "stdout",
     "output_type": "stream",
     "text": [
      "New Bitcoin Price : $100000\n",
      "Updated Portfolio Value: $100200.00\n"
     ]
    }
   ],
   "source": [
    "bitcoin.updated_price(100000)\n",
    "print(f\"New Bitcoin Price : ${bitcoin.price}\")\n",
    "print(f\"Updated Portfolio Value: ${my_portfolio.get_total_value():.2f}\")"
   ]
  },
  {
   "cell_type": "code",
   "execution_count": 27,
   "id": "50ae11c7",
   "metadata": {},
   "outputs": [
    {
     "name": "stdout",
     "output_type": "stream",
     "text": [
      "Withdrew 0.2 ETH. Remaining: 0.2\n",
      "Portfolio Value after withdrawing 0.2 ETH: $100100.00\n"
     ]
    }
   ],
   "source": [
    "my_portfolio.withdraw_crypto(\"ETH\", 0.2)\n",
    "print(f\"Portfolio Value after withdrawing 0.2 ETH: ${my_portfolio.get_total_value():.2f}\")"
   ]
  }
 ],
 "metadata": {
  "kernelspec": {
   "display_name": "pythonr",
   "language": "python",
   "name": "python3"
  },
  "language_info": {
   "codemirror_mode": {
    "name": "ipython",
    "version": 3
   },
   "file_extension": ".py",
   "mimetype": "text/x-python",
   "name": "python",
   "nbconvert_exporter": "python",
   "pygments_lexer": "ipython3",
   "version": "3.13.2"
  }
 },
 "nbformat": 4,
 "nbformat_minor": 5
}
