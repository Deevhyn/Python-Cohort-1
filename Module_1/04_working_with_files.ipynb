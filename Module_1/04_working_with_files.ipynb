{
 "cells": [
  {
   "cell_type": "markdown",
   "id": "900b3f99",
   "metadata": {},
   "source": [
    "## Working with files (CSV, JSON)\n",
    "\n",
    "#### Reading and writing Text files\n",
    "What it is: Storing and retrieving data from files on your computer.\n",
    "\n",
    "#### Basic operations:\n",
    "\n",
    "open(\"file.txt\") - Opens a file (needs to be closed after).\n",
    "\n",
    "with open(...) - Better way (auto-closes file).\n",
    "\n",
    "#### Modes: \n",
    "\"r\" - Read (default)\n",
    "\n",
    "\"w\" - Write (erases existing content)\n",
    "\n",
    "\"a\" - Append (add to the end)\n",
    "\n",
    "\"r+\" - Read and write "
   ]
  }
 ],
 "metadata": {
  "language_info": {
   "name": "python"
  }
 },
 "nbformat": 4,
 "nbformat_minor": 5
}
