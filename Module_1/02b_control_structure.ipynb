{
 "cells": [
  {
   "cell_type": "markdown",
   "id": "415637b9",
   "metadata": {},
   "source": [
    "# Python Control Structure : Loops and Conditionals\n",
    "\n",
    "Control structures help you control the flow of your program. They allow your code to make decision or repeat an action"
   ]
  },
  {
   "cell_type": "markdown",
   "id": "0b410ffe",
   "metadata": {},
   "source": [
    "## Conditional Statement \n",
    "\n",
    "A conditional statement controls whether a block of codes runs based on whethere a ondition is true or false. \n",
    "\n",
    "### Types: \n",
    "1. If- Runs codes if the condition is true \n",
    "2. Elif(Else If)- Checks additional conditional if the previous is false \n",
    "3. Else - Runs code if no conditions are true \n",
    "Purpose- Makes decisions in code by choosing which path to follow \n"
   ]
  },
  {
   "cell_type": "markdown",
   "id": "407bffe5",
   "metadata": {},
   "source": [
    "## Conditional Statement (if,elif,else)\n",
    "\n",
    "# How they work: \n",
    "\n",
    "1. If- Checks a condition (if true, runs the code inside )\n",
    "2. Elif- Short for 'else if' (checks another condition if teh first if was false )"
   ]
  },
  {
   "cell_type": "markdown",
   "id": "9e0cfd3f",
   "metadata": {},
   "source": [
    "## 1. If Statement "
   ]
  },
  {
   "cell_type": "code",
   "execution_count": 1,
   "id": "84d6267c",
   "metadata": {},
   "outputs": [
    {
     "name": "stdout",
     "output_type": "stream",
     "text": [
      "x is greater than 5\n"
     ]
    }
   ],
   "source": [
    "x = 10\n",
    "#type(x)\n",
    "\n",
    "if x > 5:\n",
    "    print(\"x is greater than 5\")\n"
   ]
  },
  {
   "cell_type": "code",
   "execution_count": 2,
   "id": "af87b301",
   "metadata": {},
   "outputs": [
    {
     "name": "stdout",
     "output_type": "stream",
     "text": [
      "x is less than 20\n"
     ]
    }
   ],
   "source": [
    "x = 10 \n",
    "\n",
    "if x < 20: \n",
    "    print(\"x is less than 20\")"
   ]
  },
  {
   "cell_type": "markdown",
   "id": "848c3ee9",
   "metadata": {},
   "source": [
    "## 2. If...Else Statement "
   ]
  },
  {
   "cell_type": "code",
   "execution_count": 3,
   "id": "e2780c9a",
   "metadata": {},
   "outputs": [
    {
     "name": "stdout",
     "output_type": "stream",
     "text": [
      "x is 5 or less\n"
     ]
    }
   ],
   "source": [
    "x = 3\n",
    "\n",
    "if x > 5:\n",
    "    print(\"x is greater than 5\")\n",
    "else:\n",
    "    print(\"x is 5 or less\")"
   ]
  },
  {
   "cell_type": "markdown",
   "id": "a1f955f5",
   "metadata": {},
   "source": [
    "## 3. If..Elif..Else Statement "
   ]
  },
  {
   "cell_type": "code",
   "execution_count": 4,
   "id": "9564e822",
   "metadata": {},
   "outputs": [
    {
     "name": "stdout",
     "output_type": "stream",
     "text": [
      "greater than 5\n"
     ]
    }
   ],
   "source": [
    "x = 7\n",
    "\n",
    "if x < 5: \n",
    "    print(\"less than 5\")\n",
    "elif x == 5: # checks if x is exactly 5 (double equal to sign)\n",
    "    print(\"equal to 5\")\n",
    "else:\n",
    "    print(\"greater than 5\")"
   ]
  },
  {
   "cell_type": "markdown",
   "id": "7aea9f70",
   "metadata": {},
   "source": [
    "#### wallet balance has $1500 ETH check if the balance is greater than $1000 and return information if the wallet balance is \"high balance\" or \"low balance\""
   ]
  },
  {
   "cell_type": "code",
   "execution_count": 5,
   "id": "45905a80",
   "metadata": {},
   "outputs": [
    {
     "name": "stdout",
     "output_type": "stream",
     "text": [
      "high balance\n"
     ]
    }
   ],
   "source": [
    "wallet_balance = 1500\n",
    "\n",
    "if wallet_balance > 1000: \n",
    "    print(\"high balance\")\n",
    "elif x == 1000: \n",
    "    print(\"exact balance\")\n",
    "else:\n",
    "    print(\"low balance\")"
   ]
  },
  {
   "cell_type": "markdown",
   "id": "5bf930e0",
   "metadata": {},
   "source": [
    "## Logical Operators\n",
    "\n",
    "What they do: Combine or invert conditions \n",
    "\n",
    "### How they work: \n",
    "1. And: Both conditions must be true \n",
    "2. Or: Either conditions can be true \n",
    "3. Not: Flips the condition (true becomes false, and vice-versa)"
   ]
  },
  {
   "cell_type": "markdown",
   "id": "128fa912",
   "metadata": {},
   "source": [
    "### 1. ..and operator\n",
    "\n",
    "Returns true only if both conditions are true \n"
   ]
  },
  {
   "cell_type": "code",
   "execution_count": 6,
   "id": "d3bddf0d",
   "metadata": {},
   "outputs": [
    {
     "name": "stdout",
     "output_type": "stream",
     "text": [
      "High balance and verified wallet\n"
     ]
    }
   ],
   "source": [
    "balance = 15000\n",
    "verified = True\n",
    "if balance > 1000 and verified: \n",
    "    print(\"High balance and verified wallet\")"
   ]
  },
  {
   "cell_type": "markdown",
   "id": "170e9b43",
   "metadata": {},
   "source": [
    "### 2. ..or operator\n",
    "\n",
    "Returns True if at least one condition is True "
   ]
  },
  {
   "cell_type": "code",
   "execution_count": 7,
   "id": "34c97559",
   "metadata": {},
   "outputs": [
    {
     "name": "stdout",
     "output_type": "stream",
     "text": [
      "passes at least one check\n"
     ]
    }
   ],
   "source": [
    "balance = 600\n",
    "verified = False \n",
    "\n",
    "if balance > 200 or verified: \n",
    "    print(\"passes at least one check\")\n",
    "else: \n",
    "    (\"fails both checks\")"
   ]
  },
  {
   "cell_type": "markdown",
   "id": "dcb9de65",
   "metadata": {},
   "source": [
    "### 3. ..not operator \n",
    "\n",
    "Reverses the condition "
   ]
  },
  {
   "cell_type": "code",
   "execution_count": 8,
   "id": "d2d8492d",
   "metadata": {},
   "outputs": [
    {
     "name": "stdout",
     "output_type": "stream",
     "text": [
      "wallet is clean\n"
     ]
    }
   ],
   "source": [
    "is_blacklisted = False\n",
    "\n",
    "if not is_blacklisted:\n",
    "    print(\"wallet is clean\")"
   ]
  },
  {
   "cell_type": "code",
   "execution_count": null,
   "id": "5e45f25d",
   "metadata": {},
   "outputs": [
    {
     "name": "stdout",
     "output_type": "stream",
     "text": [
      "within\n"
     ]
    }
   ],
   "source": [
    "y = 100 \n",
    "\n",
    "# check if > 0 and less than 200\n",
    "\n",
    "if y > 0 and y < 200:\n",
    "    print(\"within\")\n",
    "elif y < 0 or y > 200:\n",
    "    print(\"not in range\")\n",
    "elif y > 0 and y > 200:\n",
    "    print(\"outbound\")#"
   ]
  },
  {
   "cell_type": "code",
   "execution_count": 10,
   "id": "45122f94",
   "metadata": {},
   "outputs": [
    {
     "name": "stdout",
     "output_type": "stream",
     "text": [
      "Do not proceed\n"
     ]
    }
   ],
   "source": [
    "user_age = 13\n",
    "verified = True\n",
    "\n",
    "if user_age > 18 and verified: \n",
    "    print(\"Proceed\")\n",
    "else:\n",
    "    print(\"Do not proceed\")\n"
   ]
  },
  {
   "cell_type": "markdown",
   "id": "058bf9a7",
   "metadata": {},
   "source": [
    "### Loops (for loop and while loop)\n",
    "\n",
    "For loops: Repeats code for each item in a collection (like a list). E.g. For each fruit in the basket, print its name "
   ]
  },
  {
   "cell_type": "code",
   "execution_count": 11,
   "id": "3d967e71",
   "metadata": {},
   "outputs": [
    {
     "name": "stdout",
     "output_type": "stream",
     "text": [
      "ETH\n",
      "BTC\n",
      "SOL\n"
     ]
    }
   ],
   "source": [
    "# for loop - loop over a list, string or range \n",
    "\n",
    "tokens = [\"ETH\", \"BTC\", \"SOL\"]\n",
    "\n",
    "for i in tokens: \n",
    "    print(i)"
   ]
  },
  {
   "cell_type": "code",
   "execution_count": 12,
   "id": "57f73f91",
   "metadata": {},
   "outputs": [
    {
     "name": "stdout",
     "output_type": "stream",
     "text": [
      "Alice\n",
      "Bob\n",
      "Charlie\n"
     ]
    }
   ],
   "source": [
    "name = ['Alice', 'Bob', 'Charlie']\n",
    "\n",
    "for i in name: \n",
    "    print(i)"
   ]
  },
  {
   "cell_type": "code",
   "execution_count": 13,
   "id": "d5a853d9",
   "metadata": {},
   "outputs": [
    {
     "name": "stdout",
     "output_type": "stream",
     "text": [
      "44\n",
      "55\n",
      "66\n",
      "77\n"
     ]
    }
   ],
   "source": [
    "l1=[44,55,66,77]\n",
    "\n",
    "\n",
    "for r in l1:\n",
    "    print(r)"
   ]
  },
  {
   "cell_type": "code",
   "execution_count": 14,
   "id": "af8666dd",
   "metadata": {},
   "outputs": [
    {
     "name": "stdout",
     "output_type": "stream",
     "text": [
      "242\n"
     ]
    }
   ],
   "source": [
    "l1=[44,55,66,77]\n",
    "\n",
    "#type 1 loop \n",
    "total = 0\n",
    "\n",
    "for i in l1: #44\n",
    "    total=total+i \n",
    "\n",
    "print(total)"
   ]
  },
  {
   "cell_type": "code",
   "execution_count": 15,
   "id": "9baddb3e",
   "metadata": {},
   "outputs": [
    {
     "name": "stdout",
     "output_type": "stream",
     "text": [
      "4\n",
      "Avg is 60.5\n"
     ]
    }
   ],
   "source": [
    "#Average = total / number of items \n",
    "l1=[44,55,66,77]\n",
    "num = len(l1)\n",
    "print(num)\n",
    "\n",
    "average = total/num\n",
    "\n",
    "print(\"Avg is\", average)"
   ]
  },
  {
   "cell_type": "code",
   "execution_count": 16,
   "id": "43ab2574",
   "metadata": {},
   "outputs": [
    {
     "name": "stdout",
     "output_type": "stream",
     "text": [
      "0\n",
      "1\n",
      "2\n",
      "3\n",
      "4\n",
      "5\n",
      "6\n"
     ]
    }
   ],
   "source": [
    "# type 2 loop \n",
    "#range \n",
    "\n",
    "for i in range(7):\n",
    "    print(i)"
   ]
  },
  {
   "cell_type": "code",
   "execution_count": 17,
   "id": "0201601c",
   "metadata": {},
   "outputs": [
    {
     "name": "stdout",
     "output_type": "stream",
     "text": [
      "2\n",
      "3\n",
      "4\n",
      "5\n",
      "6\n",
      "7\n",
      "8\n",
      "9\n"
     ]
    }
   ],
   "source": [
    "# range \n",
    "\n",
    "for i in range(2,10):\n",
    "    print(i)"
   ]
  },
  {
   "cell_type": "code",
   "execution_count": 18,
   "id": "e9de21d6",
   "metadata": {},
   "outputs": [
    {
     "name": "stdout",
     "output_type": "stream",
     "text": [
      "2\n",
      "4\n",
      "6\n",
      "8\n",
      "10\n",
      "12\n",
      "14\n",
      "16\n",
      "18\n"
     ]
    }
   ],
   "source": [
    "for i in range(2,20,2):\n",
    "    print(i)"
   ]
  },
  {
   "cell_type": "code",
   "execution_count": 19,
   "id": "72f96d55",
   "metadata": {},
   "outputs": [
    {
     "name": "stdout",
     "output_type": "stream",
     "text": [
      "[0, 2, 4, 6, 8, 10, 12, 14, 16, 18, 20, 22, 24, 26, 28, 30, 32, 34, 36, 38, 40, 42, 44, 46, 48, 50, 52, 54, 56, 58, 60, 62, 64, 66, 68, 70, 72, 74, 76, 78, 80, 82, 84, 86, 88, 90, 92, 94, 96, 98]\n"
     ]
    }
   ],
   "source": [
    "l2 = []\n",
    "\n",
    "for i in range(100):\n",
    "    if i%2 == 0:\n",
    "        l2.append(i)\n",
    "print(l2)"
   ]
  },
  {
   "cell_type": "code",
   "execution_count": 20,
   "id": "7a22dbc3",
   "metadata": {},
   "outputs": [
    {
     "name": "stdout",
     "output_type": "stream",
     "text": [
      "44\n",
      "55\n",
      "66\n",
      "77\n",
      "88\n"
     ]
    }
   ],
   "source": [
    "#Type 3 loop --> loops through the concept of index \n",
    "\n",
    "l1=[44,55,66,77,88]\n",
    "\n",
    "for i in range(len(l1)):\n",
    "    print(l1[i])\n",
    "\n"
   ]
  },
  {
   "cell_type": "code",
   "execution_count": 21,
   "id": "02f69955",
   "metadata": {},
   "outputs": [
    {
     "name": "stdout",
     "output_type": "stream",
     "text": [
      "BTC 120000\n",
      "ETH 2010\n",
      "SOL 125\n"
     ]
    }
   ],
   "source": [
    "# Type 4 loop \n",
    "\n",
    "crypto_prices = {'BTC':120000,'ETH':2010,'SOL':125}\n",
    "\n",
    "for i in crypto_prices:\n",
    "    print(i, crypto_prices.get(i))"
   ]
  },
  {
   "cell_type": "code",
   "execution_count": 22,
   "id": "dfa788c2",
   "metadata": {},
   "outputs": [
    {
     "name": "stdout",
     "output_type": "stream",
     "text": [
      "BTC\n",
      "ETH\n",
      "SOL\n"
     ]
    }
   ],
   "source": [
    "#this prints the keys alone \n",
    "\n",
    "for i in crypto_prices.keys():\n",
    "    print(i)"
   ]
  },
  {
   "cell_type": "code",
   "execution_count": 23,
   "id": "b2286e9e",
   "metadata": {},
   "outputs": [
    {
     "name": "stdout",
     "output_type": "stream",
     "text": [
      "120000\n",
      "2010\n",
      "125\n"
     ]
    }
   ],
   "source": [
    "# this prints values alone \n",
    "\n",
    "for i in crypto_prices.values():\n",
    "    print(i)"
   ]
  },
  {
   "cell_type": "code",
   "execution_count": 24,
   "id": "92a8c620",
   "metadata": {},
   "outputs": [
    {
     "name": "stdout",
     "output_type": "stream",
     "text": [
      "('BTC', 120000)\n",
      "('ETH', 2010)\n",
      "('SOL', 125)\n"
     ]
    }
   ],
   "source": [
    "for i in crypto_prices.items():\n",
    "    print(i)"
   ]
  },
  {
   "cell_type": "markdown",
   "id": "7dded89d",
   "metadata": {},
   "source": [
    "#### While loop \n",
    "\n",
    "While loops: Repeats code while a condition is true. E.g. While hungry, keep eating "
   ]
  },
  {
   "cell_type": "code",
   "execution_count": 25,
   "id": "c511b78a",
   "metadata": {},
   "outputs": [],
   "source": [
    "#While loop \n",
    "\n",
    "counter = 0\n",
    "\n",
    "#while counter < 3:\n",
    "    #print(\"Counting....\", counter)\n",
    "    #counter=+1\n",
    "\n",
    "#while True:\n",
    "    #print('This will run forever unless you stop it')"
   ]
  },
  {
   "cell_type": "code",
   "execution_count": 26,
   "id": "17aa118f",
   "metadata": {},
   "outputs": [
    {
     "name": "stdout",
     "output_type": "stream",
     "text": [
      "10\n",
      "11\n",
      "12\n",
      "13\n",
      "14\n",
      "15\n",
      "16\n",
      "17\n",
      "18\n",
      "19\n"
     ]
    }
   ],
   "source": [
    "i = 10\n",
    "\n",
    "while True:\n",
    "    if i == 20:\n",
    "        break\n",
    "    print(i)\n",
    "    i=i+1"
   ]
  },
  {
   "cell_type": "code",
   "execution_count": 27,
   "id": "676549b9",
   "metadata": {},
   "outputs": [
    {
     "name": "stdout",
     "output_type": "stream",
     "text": [
      "21\n",
      "22\n",
      "23\n",
      "24\n",
      "25\n",
      "26\n",
      "27\n",
      "28\n",
      "29\n",
      "30\n",
      "31\n",
      "32\n",
      "33\n",
      "34\n",
      "35\n",
      "36\n",
      "37\n",
      "38\n",
      "39\n",
      "40\n",
      "41\n",
      "42\n",
      "43\n",
      "44\n",
      "45\n",
      "46\n",
      "47\n",
      "48\n",
      "49\n",
      "50\n",
      "51\n",
      "52\n",
      "53\n",
      "54\n",
      "55\n",
      "56\n",
      "57\n",
      "58\n",
      "59\n",
      "60\n",
      "61\n",
      "62\n",
      "63\n",
      "64\n",
      "65\n",
      "66\n",
      "67\n",
      "68\n",
      "69\n",
      "70\n",
      "71\n",
      "72\n",
      "73\n",
      "74\n",
      "75\n",
      "76\n",
      "77\n",
      "78\n",
      "79\n",
      "80\n",
      "81\n",
      "82\n",
      "83\n",
      "84\n",
      "85\n",
      "86\n",
      "87\n",
      "88\n",
      "89\n",
      "90\n",
      "91\n",
      "92\n",
      "93\n",
      "94\n",
      "95\n",
      "96\n",
      "97\n",
      "98\n",
      "99\n",
      "100\n",
      "101\n"
     ]
    }
   ],
   "source": [
    "#Get even numbers between 1 and 100\n",
    "\n",
    "even = []\n",
    "while True:\n",
    "    if i>100:\n",
    "        break\n",
    "    i+=1\n",
    "    if i%2==0:\n",
    "        even.append(i)\n",
    "    print(i)"
   ]
  },
  {
   "cell_type": "code",
   "execution_count": 29,
   "id": "127a6e33",
   "metadata": {},
   "outputs": [
    {
     "name": "stdout",
     "output_type": "stream",
     "text": [
      "3 x 1 = 3\n",
      "3 x 2 = 6\n",
      "3 x 3 = 9\n",
      "3 x 4 = 12\n",
      "3 x 5 = 15\n",
      "3 x 6 = 18\n",
      "3 x 7 = 21\n",
      "3 x 8 = 24\n",
      "3 x 9 = 27\n",
      "3 x 10 = 30\n",
      "3 x 11 = 33\n",
      "3 x 12 = 36\n",
      "3 x 13 = 39\n",
      "3 x 14 = 42\n"
     ]
    }
   ],
   "source": [
    "# Multiplication Table 3x3\n",
    "\n",
    "num1 = 3\n",
    "num2 = 1\n",
    "\n",
    "while True:\n",
    "    if num2==15:\n",
    "        break\n",
    "    print(num1,'x',num2,'=',num1*num2)\n",
    "    num2+=1"
   ]
  },
  {
   "cell_type": "code",
   "execution_count": null,
   "id": "89834278",
   "metadata": {},
   "outputs": [
    {
     "name": "stdout",
     "output_type": "stream",
     "text": [
      "0\n",
      "1\n",
      "3\n",
      "4\n"
     ]
    }
   ],
   "source": [
    "# Continue --> Skip to the next iteration \n",
    "\n",
    "for i in range(5):\n",
    "    if i == 2:\n",
    "        continue\n",
    "    print(i) "
   ]
  }
 ],
 "metadata": {
  "kernelspec": {
   "display_name": "pythonr",
   "language": "python",
   "name": "python3"
  },
  "language_info": {
   "codemirror_mode": {
    "name": "ipython",
    "version": 3
   },
   "file_extension": ".py",
   "mimetype": "text/x-python",
   "name": "python",
   "nbconvert_exporter": "python",
   "pygments_lexer": "ipython3",
   "version": "3.13.2"
  }
 },
 "nbformat": 4,
 "nbformat_minor": 5
}
