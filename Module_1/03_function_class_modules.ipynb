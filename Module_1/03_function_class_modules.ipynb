{
 "cells": [
  {
   "cell_type": "markdown",
   "id": "fe1c2dd1",
   "metadata": {},
   "source": [
    "# Functions, Classes and Modules "
   ]
  },
  {
   "cell_type": "markdown",
   "id": "4eb664b0",
   "metadata": {},
   "source": [
    "## 1. Functions in Python \n",
    "\n",
    "What is a Function? \n",
    "A Function is a reusable block of code that performs a specific task. Functions help reduce repition and improves code organization. "
   ]
  },
  {
   "cell_type": "code",
   "execution_count": null,
   "id": "fecb6faf",
   "metadata": {},
   "outputs": [
    {
     "data": {
      "text/plain": [
       "6"
      ]
     },
     "execution_count": 1,
     "metadata": {},
     "output_type": "execute_result"
    }
   ],
   "source": [
    "# Basic Syntax for creating a function \n",
    "x = (1,2,3,5,6,7)\n",
    "# --> len(x) --> In-Built Function \n",
    "\n",
    "def web3(crypto): \n",
    "    return result\n",
    "\n",
    "web3('BTC')"
   ]
  },
  {
   "cell_type": "code",
   "execution_count": 2,
   "id": "43bf76c1",
   "metadata": {},
   "outputs": [
    {
     "name": "stdout",
     "output_type": "stream",
     "text": [
      "The sum is 8\n"
     ]
    }
   ],
   "source": [
    "def add():\n",
    "    sum=2+6\n",
    "    print(\"The sum is\", sum)\n",
    "\n",
    "add()"
   ]
  },
  {
   "cell_type": "markdown",
   "id": "887e4bf4",
   "metadata": {},
   "source": [
    "### Function Arguments and Parameters\n",
    "\n",
    "1. Positional: Matched by order \n",
    "2. Keyword: Matched by name (e.g., func(name=\"Alice))\n",
    "3. *args: Accepts extra positional arguments as a tuple \n",
    "4. **kwargs: Accepts extra keyword arguments as a dictionary "
   ]
  }
 ],
 "metadata": {
  "kernelspec": {
   "display_name": "pythonr",
   "language": "python",
   "name": "python3"
  },
  "language_info": {
   "codemirror_mode": {
    "name": "ipython",
    "version": 3
   },
   "file_extension": ".py",
   "mimetype": "text/x-python",
   "name": "python",
   "nbconvert_exporter": "python",
   "pygments_lexer": "ipython3",
   "version": "3.13.2"
  }
 },
 "nbformat": 4,
 "nbformat_minor": 5
}
