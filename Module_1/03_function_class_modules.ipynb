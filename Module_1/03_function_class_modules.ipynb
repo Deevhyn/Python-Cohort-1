{
 "cells": [
  {
   "cell_type": "markdown",
   "id": "fe1c2dd1",
   "metadata": {},
   "source": [
    "# Functions, Classes and Modules "
   ]
  },
  {
   "cell_type": "markdown",
   "id": "4eb664b0",
   "metadata": {},
   "source": [
    "## 1. Functions in Python "
   ]
  }
 ],
 "metadata": {
  "language_info": {
   "name": "python"
  }
 },
 "nbformat": 4,
 "nbformat_minor": 5
}
